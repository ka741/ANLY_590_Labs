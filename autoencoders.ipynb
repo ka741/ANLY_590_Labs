{
  "nbformat": 4,
  "nbformat_minor": 0,
  "metadata": {
    "accelerator": "GPU",
    "colab": {
      "name": "autoencoders.ipynb",
      "provenance": [],
      "collapsed_sections": []
    },
    "kernelspec": {
      "display_name": "Python 3",
      "language": "python",
      "name": "python3"
    },
    "language_info": {
      "codemirror_mode": {
        "name": "ipython",
        "version": 3
      },
      "file_extension": ".py",
      "mimetype": "text/x-python",
      "name": "python",
      "nbconvert_exporter": "python",
      "pygments_lexer": "ipython3",
      "version": "3.7.4"
    },
    "widgets": {
      "application/vnd.jupyter.widget-state+json": {
        "66654564b04e4152988f692e12c32956": {
          "model_module": "@jupyter-widgets/controls",
          "model_name": "HBoxModel",
          "state": {
            "_view_name": "HBoxView",
            "_dom_classes": [],
            "_model_name": "HBoxModel",
            "_view_module": "@jupyter-widgets/controls",
            "_model_module_version": "1.5.0",
            "_view_count": null,
            "_view_module_version": "1.5.0",
            "box_style": "",
            "layout": "IPY_MODEL_7f4db5a428ab43189d48662fb1921039",
            "_model_module": "@jupyter-widgets/controls",
            "children": [
              "IPY_MODEL_a0e6865d29274be49438605c700d39af",
              "IPY_MODEL_9f5d6d2466b944b6b0f4550020140d7a"
            ]
          }
        },
        "7f4db5a428ab43189d48662fb1921039": {
          "model_module": "@jupyter-widgets/base",
          "model_name": "LayoutModel",
          "state": {
            "_view_name": "LayoutView",
            "grid_template_rows": null,
            "right": null,
            "justify_content": null,
            "_view_module": "@jupyter-widgets/base",
            "overflow": null,
            "_model_module_version": "1.2.0",
            "_view_count": null,
            "flex_flow": null,
            "width": null,
            "min_width": null,
            "border": null,
            "align_items": null,
            "bottom": null,
            "_model_module": "@jupyter-widgets/base",
            "top": null,
            "grid_column": null,
            "overflow_y": null,
            "overflow_x": null,
            "grid_auto_flow": null,
            "grid_area": null,
            "grid_template_columns": null,
            "flex": null,
            "_model_name": "LayoutModel",
            "justify_items": null,
            "grid_row": null,
            "max_height": null,
            "align_content": null,
            "visibility": null,
            "align_self": null,
            "height": null,
            "min_height": null,
            "padding": null,
            "grid_auto_rows": null,
            "grid_gap": null,
            "max_width": null,
            "order": null,
            "_view_module_version": "1.2.0",
            "grid_template_areas": null,
            "object_position": null,
            "object_fit": null,
            "grid_auto_columns": null,
            "margin": null,
            "display": null,
            "left": null
          }
        },
        "a0e6865d29274be49438605c700d39af": {
          "model_module": "@jupyter-widgets/controls",
          "model_name": "FloatProgressModel",
          "state": {
            "_view_name": "ProgressView",
            "style": "IPY_MODEL_34a8499f519c4525ae3a7c734e6d7020",
            "_dom_classes": [],
            "description": "Dl Completed...: 100%",
            "_model_name": "FloatProgressModel",
            "bar_style": "success",
            "max": 4,
            "_view_module": "@jupyter-widgets/controls",
            "_model_module_version": "1.5.0",
            "value": 4,
            "_view_count": null,
            "_view_module_version": "1.5.0",
            "orientation": "horizontal",
            "min": 0,
            "description_tooltip": null,
            "_model_module": "@jupyter-widgets/controls",
            "layout": "IPY_MODEL_0b22ab28a704452882ea39742583b8b5"
          }
        },
        "9f5d6d2466b944b6b0f4550020140d7a": {
          "model_module": "@jupyter-widgets/controls",
          "model_name": "HTMLModel",
          "state": {
            "_view_name": "HTMLView",
            "style": "IPY_MODEL_cffb876755fa48aeb1d78c4d045cd2d3",
            "_dom_classes": [],
            "description": "",
            "_model_name": "HTMLModel",
            "placeholder": "​",
            "_view_module": "@jupyter-widgets/controls",
            "_model_module_version": "1.5.0",
            "value": " 4/4 [00:05&lt;00:00,  1.40s/ file]",
            "_view_count": null,
            "_view_module_version": "1.5.0",
            "description_tooltip": null,
            "_model_module": "@jupyter-widgets/controls",
            "layout": "IPY_MODEL_b1d1a189d17142288057745aca323f02"
          }
        },
        "34a8499f519c4525ae3a7c734e6d7020": {
          "model_module": "@jupyter-widgets/controls",
          "model_name": "ProgressStyleModel",
          "state": {
            "_view_name": "StyleView",
            "_model_name": "ProgressStyleModel",
            "description_width": "initial",
            "_view_module": "@jupyter-widgets/base",
            "_model_module_version": "1.5.0",
            "_view_count": null,
            "_view_module_version": "1.2.0",
            "bar_color": null,
            "_model_module": "@jupyter-widgets/controls"
          }
        },
        "0b22ab28a704452882ea39742583b8b5": {
          "model_module": "@jupyter-widgets/base",
          "model_name": "LayoutModel",
          "state": {
            "_view_name": "LayoutView",
            "grid_template_rows": null,
            "right": null,
            "justify_content": null,
            "_view_module": "@jupyter-widgets/base",
            "overflow": null,
            "_model_module_version": "1.2.0",
            "_view_count": null,
            "flex_flow": null,
            "width": null,
            "min_width": null,
            "border": null,
            "align_items": null,
            "bottom": null,
            "_model_module": "@jupyter-widgets/base",
            "top": null,
            "grid_column": null,
            "overflow_y": null,
            "overflow_x": null,
            "grid_auto_flow": null,
            "grid_area": null,
            "grid_template_columns": null,
            "flex": null,
            "_model_name": "LayoutModel",
            "justify_items": null,
            "grid_row": null,
            "max_height": null,
            "align_content": null,
            "visibility": null,
            "align_self": null,
            "height": null,
            "min_height": null,
            "padding": null,
            "grid_auto_rows": null,
            "grid_gap": null,
            "max_width": null,
            "order": null,
            "_view_module_version": "1.2.0",
            "grid_template_areas": null,
            "object_position": null,
            "object_fit": null,
            "grid_auto_columns": null,
            "margin": null,
            "display": null,
            "left": null
          }
        },
        "cffb876755fa48aeb1d78c4d045cd2d3": {
          "model_module": "@jupyter-widgets/controls",
          "model_name": "DescriptionStyleModel",
          "state": {
            "_view_name": "StyleView",
            "_model_name": "DescriptionStyleModel",
            "description_width": "",
            "_view_module": "@jupyter-widgets/base",
            "_model_module_version": "1.5.0",
            "_view_count": null,
            "_view_module_version": "1.2.0",
            "_model_module": "@jupyter-widgets/controls"
          }
        },
        "b1d1a189d17142288057745aca323f02": {
          "model_module": "@jupyter-widgets/base",
          "model_name": "LayoutModel",
          "state": {
            "_view_name": "LayoutView",
            "grid_template_rows": null,
            "right": null,
            "justify_content": null,
            "_view_module": "@jupyter-widgets/base",
            "overflow": null,
            "_model_module_version": "1.2.0",
            "_view_count": null,
            "flex_flow": null,
            "width": null,
            "min_width": null,
            "border": null,
            "align_items": null,
            "bottom": null,
            "_model_module": "@jupyter-widgets/base",
            "top": null,
            "grid_column": null,
            "overflow_y": null,
            "overflow_x": null,
            "grid_auto_flow": null,
            "grid_area": null,
            "grid_template_columns": null,
            "flex": null,
            "_model_name": "LayoutModel",
            "justify_items": null,
            "grid_row": null,
            "max_height": null,
            "align_content": null,
            "visibility": null,
            "align_self": null,
            "height": null,
            "min_height": null,
            "padding": null,
            "grid_auto_rows": null,
            "grid_gap": null,
            "max_width": null,
            "order": null,
            "_view_module_version": "1.2.0",
            "grid_template_areas": null,
            "object_position": null,
            "object_fit": null,
            "grid_auto_columns": null,
            "margin": null,
            "display": null,
            "left": null
          }
        }
      }
    }
  },
  "cells": [
    {
      "cell_type": "code",
      "metadata": {
        "id": "1YwA2EdX0VdH"
      },
      "source": [
        "import numpy as np\n",
        "import matplotlib.pyplot as plt\n",
        "import tensorflow as tf\n",
        "import tensorflow.keras as tfk\n",
        "import tensorflow_datasets as tfds\n",
        "\n",
        "tfkl = tfk.layers"
      ],
      "execution_count": null,
      "outputs": []
    },
    {
      "cell_type": "markdown",
      "metadata": {
        "id": "28GQwMhxEsYw"
      },
      "source": [
        "### MNIST data\n",
        "Here is some code to load the MNIST digit recognition dataet and associated metadata"
      ]
    },
    {
      "cell_type": "code",
      "metadata": {
        "id": "23CAr5Fl03MF",
        "outputId": "6b0ac7cf-89d2-4b86-c71a-b0ac88ca9d3f",
        "colab": {
          "base_uri": "https://localhost:8080/",
          "height": 627,
          "referenced_widgets": [
            "66654564b04e4152988f692e12c32956",
            "7f4db5a428ab43189d48662fb1921039",
            "a0e6865d29274be49438605c700d39af",
            "9f5d6d2466b944b6b0f4550020140d7a",
            "34a8499f519c4525ae3a7c734e6d7020",
            "0b22ab28a704452882ea39742583b8b5",
            "cffb876755fa48aeb1d78c4d045cd2d3",
            "b1d1a189d17142288057745aca323f02"
          ]
        }
      },
      "source": [
        "data, info = tfds.load('mnist', with_info=True)\n",
        "print(info)"
      ],
      "execution_count": null,
      "outputs": [
        {
          "output_type": "stream",
          "text": [
            "\u001b[1mDownloading and preparing dataset mnist/3.0.1 (download: 11.06 MiB, generated: 21.00 MiB, total: 32.06 MiB) to /root/tensorflow_datasets/mnist/3.0.1...\u001b[0m\n"
          ],
          "name": "stdout"
        },
        {
          "output_type": "stream",
          "text": [
            "WARNING:absl:Dataset mnist is hosted on GCS. It will automatically be downloaded to your\n",
            "local data directory. If you'd instead prefer to read directly from our public\n",
            "GCS bucket (recommended if you're running on GCP), you can instead pass\n",
            "`try_gcs=True` to `tfds.load` or set `data_dir=gs://tfds-data/datasets`.\n",
            "\n"
          ],
          "name": "stderr"
        },
        {
          "output_type": "display_data",
          "data": {
            "application/vnd.jupyter.widget-view+json": {
              "model_id": "66654564b04e4152988f692e12c32956",
              "version_minor": 0,
              "version_major": 2
            },
            "text/plain": [
              "HBox(children=(FloatProgress(value=0.0, description='Dl Completed...', max=4.0, style=ProgressStyle(descriptio…"
            ]
          },
          "metadata": {
            "tags": []
          }
        },
        {
          "output_type": "stream",
          "text": [
            "\n",
            "\n",
            "\u001b[1mDataset mnist downloaded and prepared to /root/tensorflow_datasets/mnist/3.0.1. Subsequent calls will reuse this data.\u001b[0m\n",
            "tfds.core.DatasetInfo(\n",
            "    name='mnist',\n",
            "    version=3.0.1,\n",
            "    description='The MNIST database of handwritten digits.',\n",
            "    homepage='http://yann.lecun.com/exdb/mnist/',\n",
            "    features=FeaturesDict({\n",
            "        'image': Image(shape=(28, 28, 1), dtype=tf.uint8),\n",
            "        'label': ClassLabel(shape=(), dtype=tf.int64, num_classes=10),\n",
            "    }),\n",
            "    total_num_examples=70000,\n",
            "    splits={\n",
            "        'test': 10000,\n",
            "        'train': 60000,\n",
            "    },\n",
            "    supervised_keys=('image', 'label'),\n",
            "    citation=\"\"\"@article{lecun2010mnist,\n",
            "      title={MNIST handwritten digit database},\n",
            "      author={LeCun, Yann and Cortes, Corinna and Burges, CJ},\n",
            "      journal={ATT Labs [Online]. Available: http://yann.lecun.com/exdb/mnist},\n",
            "      volume={2},\n",
            "      year={2010}\n",
            "    }\"\"\",\n",
            "    redistribution_info=,\n",
            ")\n",
            "\n"
          ],
          "name": "stdout"
        }
      ]
    },
    {
      "cell_type": "markdown",
      "metadata": {
        "id": "5bevJSLhE_Lc"
      },
      "source": [
        "### Preprocessing\n",
        "\n",
        "Let's start by writting a preprocessing function.\n",
        "\n",
        "TensorFlow Datasets packages the MNIST data such that each element is a `dict` with two keys:\n",
        "- `image`: an array containing the image with shape (28, 28, 1), values of type `uint8`, and values between 0 and 255\n",
        "- `label`: An integer between 0 - 9 indicating the digit in the image\n",
        "\n",
        "Write a `preprocess` function that takes in one such element and prepares it for training an autoencoder. Things to make sure your function does:\n",
        "1. Cast the image to a `float32`\n",
        "2. Scale the values of the images so they are between 0 - 1\n",
        "3. Return a tuple with the transformed image and the label\n",
        "\n",
        "Then write another function called `ae_targets` that transforms this $(x, y)$ pair into the tuple that represents the input and target that are appropriate for an autoencoder.\n",
        "\n",
        "Finally, transform the originally dataset with the following steps:\n",
        "1. Grab the training dataset\n",
        "2. apply (i.e. \"map\") the preprocessing function\n",
        "3. apply the function to generate appropriate autoencoder targets\n",
        "3. cache the results (so you only to these tranformations the first time through the dataset)\n",
        "4. split the dataset into batches of size `32`\n",
        "5. set up the resulting dataset to repeat\n",
        "6. set up the resulting dataset to prefetch `5` elements\n",
        "\n",
        "(there is a chain of functions on the `Dataset` to do each of these!)"
      ]
    },
    {
      "cell_type": "code",
      "metadata": {
        "id": "8aJJTNCR2VC1"
      },
      "source": [
        "preprocess = lambda d: (tf.cast(d['image'], tf.float32)/255., d['label'])\n",
        "ae_targets = lambda x, y: (x, x)\n",
        "\n",
        "# to train an autoencoder we want x and x\n",
        "ds_train = \\\n",
        "  data['train'] \\\n",
        "  .map(preprocess) \\\n",
        "  .map(lambda x, y: (x, x)) \\\n",
        "  .cache() \\\n",
        "  .batch(32)\\\n",
        "  .repeat() \\\n",
        "  .prefetch(5) \\"
      ],
      "execution_count": null,
      "outputs": []
    },
    {
      "cell_type": "markdown",
      "metadata": {
        "id": "IpQgVaNCHzMO"
      },
      "source": [
        "### TensorFlow function API + a simple autoencoder\n",
        "\n",
        "We will want to use the encoder and decoder from our autoencoder separately down the road. Here is some code to build a simple autoencoder with a single hidden layer using the TensorFlow 'functional API' to see show we can combine two submodels (in this case the encoder and the decoder) into on larger model."
      ]
    },
    {
      "cell_type": "code",
      "metadata": {
        "id": "xoCZ3o72JYZY",
        "outputId": "a7bad5f6-eceb-4765-c282-5037bffb2e02",
        "colab": {
          "base_uri": "https://localhost:8080/",
          "height": 51
        }
      },
      "source": [
        "img_shape = info.features['image'].shape\n",
        "print(img_shape)\n",
        "print(np.prod(img_shape))"
      ],
      "execution_count": null,
      "outputs": [
        {
          "output_type": "stream",
          "text": [
            "(28, 28, 1)\n",
            "784\n"
          ],
          "name": "stdout"
        }
      ]
    },
    {
      "cell_type": "code",
      "metadata": {
        "id": "QSo1qWNXJTzH",
        "outputId": "5f4b2a08-2060-4541-8055-1887d4b7e37c",
        "colab": {
          "base_uri": "https://localhost:8080/",
          "height": 1000
        }
      },
      "source": [
        "encoder = tfk.Sequential([\n",
        "  tfkl.InputLayer(img_shape), # shape of the image\n",
        "  tfkl.Flatten(), # flatten\n",
        "  tfkl.Dense(32, activation=tf.nn.relu) # use a relu activation\n",
        "])\n",
        "encoder.summary()\n",
        "\n",
        "decoder = tfk.Sequential([\n",
        "  tfkl.InputLayer(32), # the same in reverse - take output as input\n",
        "  # this activation function is important - use sigmoid for pixels to have\n",
        "  # activations between 0 and 1\n",
        "  tfkl.Dense(np.prod(img_shape), activation=tf.nn.sigmoid), # expand back out\n",
        "  tfkl.Reshape(img_shape)\n",
        "])\n",
        "decoder.summary()\n",
        "\n",
        "# the tf.keras functional API starts with defining placeholder tensors that represent model inputs\n",
        "x = tfkl.Input(img_shape)\n",
        "\n",
        "# h = encoder(x) will do the meta-data math and tell you the shape of the output\n",
        "# xhat = decoder(h) prediction of reconstruced image\n",
        "# these will just confirm that the sizes of each are correct because they are in batches\n",
        "# we can then pass this placeholder through our models to specify the computation to get a prediction\n",
        "h = encoder(x)\n",
        "xhat = decoder(h)\n",
        "\n",
        "# finally we use the tfk.Model class instantiate the model by specifying the inputs and outputs\n",
        "# (note: this can also be lists, which is how you make more complex models with multiple inputs and/or outputs)\n",
        "autoencoder = tfk.Model(inputs=x, outputs=xhat)\n",
        "autoencoder.summary()\n",
        "\n",
        "# training happens as usual\n",
        "autoencoder.compile(\n",
        "    optimizer=tfk.optimizers.Adam(),\n",
        "    loss=tfk.losses.BinaryCrossentropy(),\n",
        ")\n",
        "\n",
        "results = autoencoder.fit(ds_train, steps_per_epoch=400, epochs=20)"
      ],
      "execution_count": null,
      "outputs": [
        {
          "output_type": "stream",
          "text": [
            "Model: \"sequential\"\n",
            "_________________________________________________________________\n",
            "Layer (type)                 Output Shape              Param #   \n",
            "=================================================================\n",
            "flatten (Flatten)            (None, 784)               0         \n",
            "_________________________________________________________________\n",
            "dense (Dense)                (None, 32)                25120     \n",
            "=================================================================\n",
            "Total params: 25,120\n",
            "Trainable params: 25,120\n",
            "Non-trainable params: 0\n",
            "_________________________________________________________________\n",
            "Model: \"sequential_1\"\n",
            "_________________________________________________________________\n",
            "Layer (type)                 Output Shape              Param #   \n",
            "=================================================================\n",
            "dense_1 (Dense)              (None, 784)               25872     \n",
            "_________________________________________________________________\n",
            "reshape (Reshape)            (None, 28, 28, 1)         0         \n",
            "=================================================================\n",
            "Total params: 25,872\n",
            "Trainable params: 25,872\n",
            "Non-trainable params: 0\n",
            "_________________________________________________________________\n",
            "Model: \"functional_1\"\n",
            "_________________________________________________________________\n",
            "Layer (type)                 Output Shape              Param #   \n",
            "=================================================================\n",
            "input_3 (InputLayer)         [(None, 28, 28, 1)]       0         \n",
            "_________________________________________________________________\n",
            "sequential (Sequential)      (None, 32)                25120     \n",
            "_________________________________________________________________\n",
            "sequential_1 (Sequential)    (None, 28, 28, 1)         25872     \n",
            "=================================================================\n",
            "Total params: 50,992\n",
            "Trainable params: 50,992\n",
            "Non-trainable params: 0\n",
            "_________________________________________________________________\n",
            "Epoch 1/20\n",
            "400/400 [==============================] - 2s 5ms/step - loss: 0.2530\n",
            "Epoch 2/20\n",
            "400/400 [==============================] - 2s 5ms/step - loss: 0.1636\n",
            "Epoch 3/20\n",
            "400/400 [==============================] - 2s 5ms/step - loss: 0.1398\n",
            "Epoch 4/20\n",
            "400/400 [==============================] - 2s 5ms/step - loss: 0.1255\n",
            "Epoch 5/20\n",
            "400/400 [==============================] - 2s 4ms/step - loss: 0.1161\n",
            "Epoch 6/20\n",
            "400/400 [==============================] - 1s 2ms/step - loss: 0.1092\n",
            "Epoch 7/20\n",
            "400/400 [==============================] - 1s 2ms/step - loss: 0.1052\n",
            "Epoch 8/20\n",
            "400/400 [==============================] - 1s 2ms/step - loss: 0.1021\n",
            "Epoch 9/20\n",
            "400/400 [==============================] - 1s 2ms/step - loss: 0.0998\n",
            "Epoch 10/20\n",
            "400/400 [==============================] - 1s 2ms/step - loss: 0.0985\n",
            "Epoch 11/20\n",
            "400/400 [==============================] - 1s 2ms/step - loss: 0.0965\n",
            "Epoch 12/20\n",
            "400/400 [==============================] - 1s 2ms/step - loss: 0.0964\n",
            "Epoch 13/20\n",
            "400/400 [==============================] - 1s 2ms/step - loss: 0.0961\n",
            "Epoch 14/20\n",
            "400/400 [==============================] - 1s 2ms/step - loss: 0.0958\n",
            "Epoch 15/20\n",
            "400/400 [==============================] - 1s 2ms/step - loss: 0.0953\n",
            "Epoch 16/20\n",
            "400/400 [==============================] - 1s 2ms/step - loss: 0.0950\n",
            "Epoch 17/20\n",
            "400/400 [==============================] - 1s 2ms/step - loss: 0.0947\n",
            "Epoch 18/20\n",
            "400/400 [==============================] - 1s 2ms/step - loss: 0.0952\n",
            "Epoch 19/20\n",
            "400/400 [==============================] - 1s 2ms/step - loss: 0.0950\n",
            "Epoch 20/20\n",
            "400/400 [==============================] - 1s 2ms/step - loss: 0.0942\n"
          ],
          "name": "stdout"
        }
      ]
    },
    {
      "cell_type": "code",
      "metadata": {
        "id": "WdpBTykAVbcL",
        "outputId": "987bd32b-4f87-41cf-a9eb-820d1015a116",
        "colab": {
          "base_uri": "https://localhost:8080/",
          "height": 1000
        }
      },
      "source": [
        "imgs = next(iter(ds_train))[0]\n",
        "for i in range(10):\n",
        "  plt.subplot(1, 2, 1)\n",
        "  plt.imshow(imgs[i].numpy().squeeze(), cmap='bone')\n",
        "  plt.subplot(1, 2, 2, )\n",
        "  plt.imshow(autoencoder(imgs[i][tf.newaxis]).numpy().squeeze(), cmap='bone')\n",
        "  plt.show()"
      ],
      "execution_count": null,
      "outputs": [
        {
          "output_type": "display_data",
          "data": {
            "image/png": "[encoded data removed]",
            "text/plain": [
              "<Figure size 432x288 with 2 Axes>"
            ]
          },
          "metadata": {
            "tags": [],
            "needs_background": "light"
          }
        },
        {
          "output_type": "display_data",
          "data": {
            "image/png": "[encoded data removed]",
            "text/plain": [
              "<Figure size 432x288 with 2 Axes>"
            ]
          },
          "metadata": {
            "tags": [],
            "needs_background": "light"
          }
        },
        {
          "output_type": "display_data",
          "data": {
            "image/png": "[encoded data removed]",
            "text/plain": [
              "<Figure size 432x288 with 2 Axes>"
            ]
          },
          "metadata": {
            "tags": [],
            "needs_background": "light"
          }
        },
        {
          "output_type": "display_data",
          "data": {
            "image/png": "[encoded data removed]",
            "text/plain": [
              "<Figure size 432x288 with 2 Axes>"
            ]
          },
          "metadata": {
            "tags": [],
            "needs_background": "light"
          }
        },
        {
          "output_type": "display_data",
          "data": {
            "image/png": "[encoded data removed]",
            "text/plain": [
              "<Figure size 432x288 with 2 Axes>"
            ]
          },
          "metadata": {
            "tags": [],
            "needs_background": "light"
          }
        },
        {
          "output_type": "display_data",
          "data": {
            "image/png": "[encoded data removed]",
            "text/plain": [
              "<Figure size 432x288 with 2 Axes>"
            ]
          },
          "metadata": {
            "tags": [],
            "needs_background": "light"
          }
        },
        {
          "output_type": "display_data",
          "data": {
            "image/png": "[encoded data removed]",
            "text/plain": [
              "<Figure size 432x288 with 2 Axes>"
            ]
          },
          "metadata": {
            "tags": [],
            "needs_background": "light"
          }
        },
        {
          "output_type": "display_data",
          "data": {
            "image/png": "[encoded data removed]",
            "text/plain": [
              "<Figure size 432x288 with 2 Axes>"
            ]
          },
          "metadata": {
            "tags": [],
            "needs_background": "light"
          }
        },
        {
          "output_type": "display_data",
          "data": {
            "image/png": "[encoded data removed]",
            "text/plain": [
              "<Figure size 432x288 with 2 Axes>"
            ]
          },
          "metadata": {
            "tags": [],
            "needs_background": "light"
          }
        },
        {
          "output_type": "display_data",
          "data": {
            "image/png": "[encoded data removed]",
            "text/plain": [
              "<Figure size 432x288 with 2 Axes>"
            ]
          },
          "metadata": {
            "tags": [],
            "needs_background": "light"
          }
        }
      ]
    },
    {
      "cell_type": "markdown",
      "metadata": {
        "id": "JIGnE0CwVxXb"
      },
      "source": [
        "### Deep autoencoder and latent representations\n",
        "\n",
        "We want to reduce the dimensionality to the hidden layer so that we can plot the hidden representations to see how the autoencoder is organizing the data. If our hidden layers is going to be so much smaller, we will need to make up for it by making the network deeper.\n",
        "\n",
        "Modify the code above to make this work. Try a layers of size 156 -> 32 -> 2. After trining the model, use the encoder by itself and make a scatter plot of the some of the data, coloring each point by the digit identity. Which digits end up bunched together? Which are more well separated? Why might this be?"
      ]
    },
    {
      "cell_type": "code",
      "metadata": {
        "id": "b1t8p-Ak0VdN",
        "outputId": "bea24096-a7bb-4ec2-a3d0-9d0da0484ede",
        "colab": {
          "base_uri": "https://localhost:8080/",
          "height": 1000
        }
      },
      "source": [
        "encoder = tfk.Sequential([\n",
        "  tfkl.InputLayer(img_shape), # shape of the image\n",
        "  tfkl.Flatten(), # flatten\n",
        "  tfkl.Dense(156, activation=tf.nn.relu),\n",
        "  tfkl.Dense(32, activation=tf.nn.relu),\n",
        "  tfkl.Dense(2, activation=None) # the bottom layer being this small makes this hard\n",
        "])\n",
        "encoder.summary()\n",
        "\n",
        "decoder = tfk.Sequential([\n",
        "  tfkl.InputLayer(2),\n",
        "  tfkl.Dense(32, activation=tf.nn.relu),\n",
        "  tfkl.Dense(156, activation=tf.nn.relu),\n",
        "  tfkl.Dense(np.prod(img_shape), activation=tf.nn.sigmoid),\n",
        "  tfkl.Reshape(img_shape)\n",
        "])\n",
        "decoder.summary()\n",
        "\n",
        "# the tf.keras functional API starts with defining placeholder tensors that represent model inputs\n",
        "x = tfkl.Input(img_shape)\n",
        "\n",
        "# h = encoder(x) will do the meta-data math and tell you the shape of the output\n",
        "# xhat = decoder(h) prediction of reconstruced image\n",
        "# these will just confirm that the sizes of each are correct because they are in batches\n",
        "# we can then pass this placeholder through our models to specify the computation to get a prediction\n",
        "h = encoder(x)\n",
        "xhat = decoder(h)\n",
        "\n",
        "# finally we use the tfk.Model class instantiate the model by specifying the inputs and outputs\n",
        "# (note: this can also be lists, which is how you make more complex models with multiple inputs and/or outputs)\n",
        "autoencoder = tfk.Model(inputs=x, outputs=xhat)\n",
        "autoencoder.summary()\n",
        "\n",
        "# training happens as usual\n",
        "autoencoder.compile(\n",
        "    optimizer=tfk.optimizers.Adam(),\n",
        "    loss=tfk.losses.BinaryCrossentropy(),\n",
        ")\n",
        "\n",
        "results = autoencoder.fit(ds_train, steps_per_epoch=400, epochs=20)"
      ],
      "execution_count": null,
      "outputs": [
        {
          "output_type": "stream",
          "text": [
            "Model: \"sequential_2\"\n",
            "_________________________________________________________________\n",
            "Layer (type)                 Output Shape              Param #   \n",
            "=================================================================\n",
            "flatten_1 (Flatten)          (None, 784)               0         \n",
            "_________________________________________________________________\n",
            "dense_2 (Dense)              (None, 156)               122460    \n",
            "_________________________________________________________________\n",
            "dense_3 (Dense)              (None, 32)                5024      \n",
            "_________________________________________________________________\n",
            "dense_4 (Dense)              (None, 2)                 66        \n",
            "=================================================================\n",
            "Total params: 127,550\n",
            "Trainable params: 127,550\n",
            "Non-trainable params: 0\n",
            "_________________________________________________________________\n",
            "Model: \"sequential_3\"\n",
            "_________________________________________________________________\n",
            "Layer (type)                 Output Shape              Param #   \n",
            "=================================================================\n",
            "dense_5 (Dense)              (None, 32)                96        \n",
            "_________________________________________________________________\n",
            "dense_6 (Dense)              (None, 156)               5148      \n",
            "_________________________________________________________________\n",
            "dense_7 (Dense)              (None, 784)               123088    \n",
            "_________________________________________________________________\n",
            "reshape_1 (Reshape)          (None, 28, 28, 1)         0         \n",
            "=================================================================\n",
            "Total params: 128,332\n",
            "Trainable params: 128,332\n",
            "Non-trainable params: 0\n",
            "_________________________________________________________________\n",
            "Model: \"functional_3\"\n",
            "_________________________________________________________________\n",
            "Layer (type)                 Output Shape              Param #   \n",
            "=================================================================\n",
            "input_6 (InputLayer)         [(None, 28, 28, 1)]       0         \n",
            "_________________________________________________________________\n",
            "sequential_2 (Sequential)    (None, 2)                 127550    \n",
            "_________________________________________________________________\n",
            "sequential_3 (Sequential)    (None, 28, 28, 1)         128332    \n",
            "=================================================================\n",
            "Total params: 255,882\n",
            "Trainable params: 255,882\n",
            "Non-trainable params: 0\n",
            "_________________________________________________________________\n",
            "Epoch 1/20\n",
            "400/400 [==============================] - 1s 3ms/step - loss: 0.2589\n",
            "Epoch 2/20\n",
            "400/400 [==============================] - 1s 3ms/step - loss: 0.2206\n",
            "Epoch 3/20\n",
            "400/400 [==============================] - 1s 2ms/step - loss: 0.2077\n",
            "Epoch 4/20\n",
            "400/400 [==============================] - 1s 3ms/step - loss: 0.2004\n",
            "Epoch 5/20\n",
            "400/400 [==============================] - 1s 3ms/step - loss: 0.1967\n",
            "Epoch 6/20\n",
            "400/400 [==============================] - 1s 3ms/step - loss: 0.1928\n",
            "Epoch 7/20\n",
            "400/400 [==============================] - 1s 3ms/step - loss: 0.1916\n",
            "Epoch 8/20\n",
            "400/400 [==============================] - 1s 3ms/step - loss: 0.1897\n",
            "Epoch 9/20\n",
            "400/400 [==============================] - 1s 2ms/step - loss: 0.1880\n",
            "Epoch 10/20\n",
            "400/400 [==============================] - 1s 3ms/step - loss: 0.1871\n",
            "Epoch 11/20\n",
            "400/400 [==============================] - 1s 3ms/step - loss: 0.1852\n",
            "Epoch 12/20\n",
            "400/400 [==============================] - 1s 3ms/step - loss: 0.1850\n",
            "Epoch 13/20\n",
            "400/400 [==============================] - 1s 3ms/step - loss: 0.1849\n",
            "Epoch 14/20\n",
            "400/400 [==============================] - 1s 3ms/step - loss: 0.1835\n",
            "Epoch 15/20\n",
            "400/400 [==============================] - 1s 3ms/step - loss: 0.1829\n",
            "Epoch 16/20\n",
            "400/400 [==============================] - 1s 3ms/step - loss: 0.1814\n",
            "Epoch 17/20\n",
            "400/400 [==============================] - 1s 3ms/step - loss: 0.1820\n",
            "Epoch 18/20\n",
            "400/400 [==============================] - 1s 3ms/step - loss: 0.1814\n",
            "Epoch 19/20\n",
            "400/400 [==============================] - 1s 3ms/step - loss: 0.1807\n",
            "Epoch 20/20\n",
            "400/400 [==============================] - 1s 3ms/step - loss: 0.1799\n"
          ],
          "name": "stdout"
        }
      ]
    },
    {
      "cell_type": "code",
      "metadata": {
        "id": "YbG1-lOI7JzM",
        "outputId": "176ea5b0-ef73-43f0-8012-b4807194f926",
        "colab": {
          "base_uri": "https://localhost:8080/",
          "height": 1000
        }
      },
      "source": [
        "for i in range(10):\n",
        "  plt.subplot(1, 2, 1)\n",
        "  plt.imshow(imgs[i].numpy().squeeze(), cmap='bone')\n",
        "  plt.subplot(1, 2, 2, )\n",
        "  plt.imshow(autoencoder(imgs[i][tf.newaxis]).numpy().squeeze(), cmap='bone')\n",
        "  plt.show()"
      ],
      "execution_count": null,
      "outputs": [
        {
          "output_type": "display_data",
          "data": {
            "image/png": "[encoded data removed]",
            "text/plain": [
              "<Figure size 432x288 with 2 Axes>"
            ]
          },
          "metadata": {
            "tags": [],
            "needs_background": "light"
          }
        },
        {
          "output_type": "display_data",
          "data": {
            "image/png": "[encoded data removed]",
            "text/plain": [
              "<Figure size 432x288 with 2 Axes>"
            ]
          },
          "metadata": {
            "tags": [],
            "needs_background": "light"
          }
        },
        {
          "output_type": "display_data",
          "data": {
            "image/png": "[encoded data removed]",
            "text/plain": [
              "<Figure size 432x288 with 2 Axes>"
            ]
          },
          "metadata": {
            "tags": [],
            "needs_background": "light"
          }
        },
        {
          "output_type": "display_data",
          "data": {
            "image/png": "[encoded data removed]",
            "text/plain": [
              "<Figure size 432x288 with 2 Axes>"
            ]
          },
          "metadata": {
            "tags": [],
            "needs_background": "light"
          }
        },
        {
          "output_type": "display_data",
          "data": {
            "image/png": "[encoded data removed]",
            "text/plain": [
              "<Figure size 432x288 with 2 Axes>"
            ]
          },
          "metadata": {
            "tags": [],
            "needs_background": "light"
          }
        },
        {
          "output_type": "display_data",
          "data": {
            "image/png": "[encoded data removed]",
            "text/plain": [
              "<Figure size 432x288 with 2 Axes>"
            ]
          },
          "metadata": {
            "tags": [],
            "needs_background": "light"
          }
        },
        {
          "output_type": "display_data",
          "data": {
            "image/png": "[encoded data removed]",
            "text/plain": [
              "<Figure size 432x288 with 2 Axes>"
            ]
          },
          "metadata": {
            "tags": [],
            "needs_background": "light"
          }
        },
        {
          "output_type": "display_data",
          "data": {
            "image/png": "[encoded data removed]",
            "text/plain": [
              "<Figure size 432x288 with 2 Axes>"
            ]
          },
          "metadata": {
            "tags": [],
            "needs_background": "light"
          }
        },
        {
          "output_type": "display_data",
          "data": {
            "image/png": "[encoded data removed]",
            "text/plain": [
              "<Figure size 432x288 with 2 Axes>"
            ]
          },
          "metadata": {
            "tags": [],
            "needs_background": "light"
          }
        },
        {
          "output_type": "display_data",
          "data": {
            "image/png": "[encoded data removed]",
            "text/plain": [
              "<Figure size 432x288 with 2 Axes>"
            ]
          },
          "metadata": {
            "tags": [],
            "needs_background": "light"
          }
        }
      ]
    },
    {
      "cell_type": "code",
      "metadata": {
        "id": "B7S9Aqn893jc"
      },
      "source": [
        "# get 1000 data points for the scatter plot\n",
        "x, y = next(iter(data['test'].map(preprocess).batch(1000)))"
      ],
      "execution_count": null,
      "outputs": []
    },
    {
      "cell_type": "code",
      "metadata": {
        "id": "0TGMBWOW-0kG",
        "outputId": "72c76ad1-2551-4948-894a-759e68d8d4c1",
        "colab": {
          "base_uri": "https://localhost:8080/",
          "height": 428
        }
      },
      "source": [
        " h = encoder(x).numpy()\n",
        " plt.figure(figsize=(7,7))\n",
        " # Make each number its own color on the plot\n",
        " for i in range(10):\n",
        "   inds = np.where(y==i)[0]\n",
        "   plt.scatter(h[inds,0],h[inds, 1], s=10, label = str(i))\n",
        "plt.legend()\n",
        "plt.show()"
      ],
      "execution_count": null,
      "outputs": [
        {
          "output_type": "display_data",
          "data": {
            "image/png": "[encoded data removed]",
            "text/plain": [
              "<Figure size 504x504 with 1 Axes>"
            ]
          },
          "metadata": {
            "tags": [],
            "needs_background": "light"
          }
        }
      ]
    },
    {
      "cell_type": "code",
      "metadata": {
        "id": "cyvhMblHh5wW"
      },
      "source": [
        "from sklearn.manifold import TSNE\n",
        "\n",
        "tsne = TSNE(n_components=2).fit_transform(h)"
      ],
      "execution_count": null,
      "outputs": []
    }
  ]
}